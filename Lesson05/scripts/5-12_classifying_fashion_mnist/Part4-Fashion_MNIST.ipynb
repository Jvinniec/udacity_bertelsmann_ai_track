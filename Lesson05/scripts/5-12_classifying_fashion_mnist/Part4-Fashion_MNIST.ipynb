{
 "cells": [
  {
   "cell_type": "markdown",
   "metadata": {},
   "source": [
    "# Classifying Fashion-MNIST\n",
    "\n",
    "Now it's your turn to build and train a neural network. You'll be using the [Fashion-MNIST dataset](https://github.com/zalandoresearch/fashion-mnist), a drop-in replacement for the MNIST dataset. MNIST is actually quite trivial with neural networks where you can easily achieve better than 97% accuracy. Fashion-MNIST is a set of 28x28 greyscale images of clothes. It's more complex than MNIST, so it's a better representation of the actual performance of your network, and a better representation of datasets you'll use in the real world.\n",
    "\n",
    "<img src='assets/fashion-mnist-sprite.png' width=500px>\n",
    "\n",
    "In this notebook, you'll build your own neural network. For the most part, you could just copy and paste the code from Part 3, but you wouldn't be learning. It's important for you to write the code yourself and get it to work. Feel free to consult the previous notebooks though as you work through this.\n",
    "\n",
    "First off, let's load the dataset through torchvision."
   ]
  },
  {
   "cell_type": "code",
   "execution_count": 1,
   "metadata": {},
   "outputs": [],
   "source": [
    "import torch\n",
    "from torchvision import datasets, transforms\n",
    "import sys\n",
    "sys.path.append(\"Lesson05/scripts\")\n",
    "import helper\n",
    "\n",
    "# Define a transform to normalize the data\n",
    "transform = transforms.Compose([transforms.ToTensor(),\n",
    "                                transforms.Normalize((0.5,), (0.5,))])\n",
    "# Download and load the training data\n",
    "trainset = datasets.FashionMNIST('~/.pytorch/F_MNIST_data/', download=True, train=True, transform=transform)\n",
    "trainloader = torch.utils.data.DataLoader(trainset, batch_size=64, shuffle=True)\n",
    "\n",
    "# Download and load the test data\n",
    "testset = datasets.FashionMNIST('~/.pytorch/F_MNIST_data/', download=True, train=False, transform=transform)\n",
    "testloader = torch.utils.data.DataLoader(testset, batch_size=64, shuffle=True)"
   ]
  },
  {
   "cell_type": "markdown",
   "metadata": {},
   "source": [
    "Here we can see one of the images."
   ]
  },
  {
   "cell_type": "code",
   "execution_count": 2,
   "metadata": {},
   "outputs": [
    {
     "data": {
      "image/png": "[encoded data removed]",
      "image/svg+xml": "<?xml version=\"1.0\" encoding=\"utf-8\" standalone=\"no\"?>\n<!DOCTYPE svg PUBLIC \"-//W3C//DTD SVG 1.1//EN\"\n  \"http://www.w3.org/Graphics/SVG/1.1/DTD/svg11.dtd\">\n<!-- Created with matplotlib (https://matplotlib.org/) -->\n<svg height=\"231.84pt\" version=\"1.1\" viewBox=\"0 0 231.84 231.84\" width=\"231.84pt\" xmlns=\"http://www.w3.org/2000/svg\" xmlns:xlink=\"http://www.w3.org/1999/xlink\">\n <defs>\n  <style type=\"text/css\">\n*{stroke-linecap:butt;stroke-linejoin:round;}\n  </style>\n </defs>\n <g id=\"figure_1\">\n  <g id=\"patch_1\">\n   <path d=\"M 0 231.84 \nL 231.84 231.84 \nL 231.84 0 \nL 0 0 \nz\n\" style=\"fill:none;\"/>\n  </g>\n  <g id=\"axes_1\">\n   <g id=\"patch_2\">\n    <path d=\"M 7.2 224.64 \nL 224.64 224.64 \nL 224.64 7.2 \nL 7.2 7.2 \nz\n\" style=\"fill:#ffffff;\"/>\n   </g>\n   <g clip-path=\"url(#p138fcc2875)\">\n    <image height=\"218\" id=\"image867b7bafcf\" transform=\"scale(1 -1)translate(0 -218)\" width=\"218\" x=\"7.2\" xlink:href=\"data:image/png;base64,\niVBORw0KGgoAAAANSUhEUgAAANoAAADaCAYAAADAHVzbAAAABHNCSVQICAgIfAhkiAAABOhJREFUeJzt3ctuW2UUhmE7dk5K0yDSEC6BqqQHBkQoZVCuoeLqUK+EDlDndEAlekDKhKolTZpDUUJQnDBi1r1+FOPPiD7PdGVv79h9u6Us2e7f27p50QMmambaFwAfAqFBgNAgQGgQIDQIEBoECA0ChAYBQoMAoUGA0CBAaBAgNAgQGgQIDQKEBgFCgwChQYDQIEBoECA0CBAaBAgNAoQGAUKDAKFBgNAgQGgQIDQIEBoECA0ChAYBQoMAoUGA0CBAaBAgNAgQGgQIDQKEBgFCgwChQYDQIEBoECA0CBAaBAgNAoQGAUKDAKFBgNAgQGgQIDQIEBoECA0ChAYBQoMAoUGA0CBAaBAgNAgQGgQIDQKEBgFCgwChQYDQIEBoECA0CBAaBAgNAoQGAUKDAKFBgNAgQGgQIDQIGE7y5PNzc+V8Y2OjnC8tLZXzhfn5ztlgUP9qo9FZOb8op+O5uKjP3u/3y/niwsJYj986f6Vx6c3frXpmT07+KI8cDAaNc4/nori2fq9+zn5+9rScu6NBgNAgQGgQIDQIEBoECA0ChAYBzT3aV5ub5Xxtba1zdn7e2hfVj/3ry5fl/OmrV52zwUz9f0hrJzMczpbz1r6o2slcnJ+Pd+7mkq/+gdPT09YJOrVe07m5+nnrN16Xymg0uvSxvV57F3ZW7FY/Kf6d93q93vHxcTl3R4MAoUGA0CBAaBAgNAgQGgQMv7hzp/yBhYXFcv7Do0eds8PDw0td1N8+Wlkp5+vr652zZ8+fj/XYkzTO21R6vX/yVpTJWblavyZ7b/cufe6Zxp/+W/OW1vM2mOle+ezu7o712O5oECA0CBAaBAgNAoQGAUKDAKFBwPDHx4+nfQ2dDhp7uNu3bnfOdt68KY/d39+/1DX9G8bdgy00Pm7u66275XxxsXs3urr6cXnstdXVcv7dgwfl/OjoqHM22/h4wvNR/faixrtgWuNyvzk3W19b9RabXs8dDSKEBgFCgwChQYDQIEBoECA0COh/c/dWudRpvXfqvPHRadPy7f375fz7hw/L+dsx92zV87Z85Up57PXPrpfztbVr5fzsrP5Ytne/v+uc7ezU+8cXv7wo57yfOxoECA0ChAYBQoMAoUGA0CBAaBDQ3KO1jPPeqtaObqYxHxU7vKvLy+Wxm1/WX0d1+mf91Uat/eGnxWdOnpyclMf+trNTzre3t8v5/sFBOZ/m7rN6zaf5eZWT5o4GAUKDAKFBgNAgQGgQIDQIEBoE9O9t3fzPLi9ae7ZJ7vA+v3GjnO/t1d8D9ur1687Z/3lfxPu5o0GA0CBAaBAgNAgQGgQIDQKG076AyiT/DN46909PnkzssfnwuKNBgNAgQGgQIDQIEBoECA0ChAYBQoMAoUGA0CBAaBAgNAgQGgQIDQKEBgFCgwChQYDQIEBoECA0CBAaBAgNAoQGAUKDAKFBgNAgQGgQIDQIEBoECA0ChAYBQoMAoUGA0CBAaBAgNAgQGgQIDQKEBgFCgwChQYDQIEBoECA0CBAaBAgNAoQGAUKDAKFBgNAgQGgQIDQIEBoECA0ChAYBQoMAoUGA0CBAaBAgNAgQGgQIDQKEBgFCgwChQYDQIEBoECA0CBAaBAgNAoQGAUKDAKFBgNAgQGgQIDQIEBoECA0ChAYBQoMAoUGA0CBAaBAgNAgQGgT8BfPGuoTXSSNiAAAAAElFTkSuQmCC\" y=\"-6.64\"/>\n   </g>\n   <g id=\"matplotlib.axis_1\">\n    <g id=\"xtick_1\">\n     <g id=\"line2d_1\"/>\n    </g>\n    <g id=\"xtick_2\">\n     <g id=\"line2d_2\"/>\n    </g>\n    <g id=\"xtick_3\">\n     <g id=\"line2d_3\"/>\n    </g>\n    <g id=\"xtick_4\">\n     <g id=\"line2d_4\"/>\n    </g>\n    <g id=\"xtick_5\">\n     <g id=\"line2d_5\"/>\n    </g>\n    <g id=\"xtick_6\">\n     <g id=\"line2d_6\"/>\n    </g>\n   </g>\n   <g id=\"matplotlib.axis_2\">\n    <g id=\"ytick_1\">\n     <g id=\"line2d_7\"/>\n    </g>\n    <g id=\"ytick_2\">\n     <g id=\"line2d_8\"/>\n    </g>\n    <g id=\"ytick_3\">\n     <g id=\"line2d_9\"/>\n    </g>\n    <g id=\"ytick_4\">\n     <g id=\"line2d_10\"/>\n    </g>\n    <g id=\"ytick_5\">\n     <g id=\"line2d_11\"/>\n    </g>\n    <g id=\"ytick_6\">\n     <g id=\"line2d_12\"/>\n    </g>\n   </g>\n  </g>\n </g>\n <defs>\n  <clipPath id=\"p138fcc2875\">\n   <rect height=\"217.44\" width=\"217.44\" x=\"7.2\" y=\"7.2\"/>\n  </clipPath>\n </defs>\n</svg>\n",
      "text/plain": "<Figure size 432x288 with 1 Axes>"
     },
     "metadata": {
      "needs_background": "light"
     },
     "output_type": "display_data"
    }
   ],
   "source": [
    "image, label = next(iter(trainloader))\n",
    "helper.imshow(image[0,:]);"
   ]
  },
  {
   "cell_type": "markdown",
   "metadata": {},
   "source": [
    "## Building the network\n",
    "\n",
    "Here you should define your network. As with MNIST, each image is 28x28 which is a total of 784 pixels, and there are 10 classes. You should include at least one hidden layer. We suggest you use ReLU activations for the layers and to return the logits or log-softmax from the forward pass. It's up to you how many layers you add and the size of those layers."
   ]
  },
  {
   "cell_type": "code",
   "execution_count": 3,
   "metadata": {},
   "outputs": [
    {
     "data": {
      "text/plain": "Sequential(\n  (fc1): Linear(in_features=784, out_features=128, bias=True)\n  (relu1): ReLU()\n  (fc2): Linear(in_features=128, out_features=64, bias=True)\n  (activ2): ReLU()\n  (fc3): Linear(in_features=64, out_features=10, bias=True)\n  (acitv_fin): LogSoftmax()\n)"
     },
     "execution_count": 3,
     "metadata": {},
     "output_type": "execute_result"
    }
   ],
   "source": [
    "# Import the modules\n",
    "from torch import nn\n",
    "\n",
    "# Number of pixels input\n",
    "inputs  = 784\n",
    "# Number of output classes\n",
    "outputs = 10\n",
    "# Number of nodes in each hidden layer\n",
    "nodes   = [128, 64, outputs]\n",
    "\n",
    "# Define the input layer\n",
    "layers = [('fc1', nn.Linear(inputs, nodes[0])),\n",
    "          ('relu1',nn.ReLU())]\n",
    "\n",
    "# Loop over hidden layers. Note that putting this in\n",
    "# a for-loop allows me to experiment with different \n",
    "# numbers of layers without having to modify the network.\n",
    "# I just have to add/subtract entries to the 'nodes' \n",
    "# array, or change the number of nodes in a given layer.\n",
    "for i,n in enumerate(nodes[:-1]):\n",
    "    # Add the layer\n",
    "    name  = 'fc' + str(i+2)\n",
    "    layer = nn.Linear(nodes[i], nodes[i+1])\n",
    "    layers.append((name, layer))\n",
    "\n",
    "    # Add the activation\n",
    "    name  = 'activ' + str(i+2)\n",
    "    layers.append((name, nn.ReLU()))\n",
    "\n",
    "# Modify the final activation to be LogSoftmax\n",
    "layers[-1] = ('acitv_fin', nn.LogSoftmax(dim=1))\n",
    "\n",
    "# Put it into the sequential model\n",
    "from collections import OrderedDict\n",
    "model = nn.Sequential(OrderedDict(layers))\n",
    "model"
   ]
  },
  {
   "cell_type": "markdown",
   "metadata": {},
   "source": [
    "# Train the network\n",
    "\n",
    "Now you should create your network and train it. First you'll want to define [the criterion](http://pytorch.org/docs/master/nn.html#loss-functions) ( something like `nn.CrossEntropyLoss`) and [the optimizer](http://pytorch.org/docs/master/optim.html) (typically `optim.SGD` or `optim.Adam`).\n",
    "\n",
    "Then write the training code. Remember the training pass is a fairly straightforward process:\n",
    "\n",
    "* Make a forward pass through the network to get the logits \n",
    "* Use the logits to calculate the loss\n",
    "* Perform a backward pass through the network with `loss.backward()` to calculate the gradients\n",
    "* Take a step with the optimizer to update the weights\n",
    "\n",
    "By adjusting the hyperparameters (hidden units, learning rate, etc), you should be able to get the training loss below 0.4."
   ]
  },
  {
   "cell_type": "code",
   "execution_count": 4,
   "metadata": {},
   "outputs": [],
   "source": [
    "# Criterion\n",
    "criterion = nn.NLLLoss()\n",
    "\n",
    "# Optimizer\n",
    "from torch import optim\n",
    "optimizer = optim.SGD(model.parameters(), lr=0.01)"
   ]
  },
  {
   "cell_type": "code",
   "execution_count": 5,
   "metadata": {},
   "outputs": [
    {
     "name": "stdout",
     "output_type": "stream",
     "text": "Training loss (1): 1.0054448524644888\nTraining loss (2): 0.5630527393840777\nTraining loss (3): 0.49348154282773227\nTraining loss (4): 0.45906258242597964\nTraining loss (5): 0.43690287348812323\n"
    }
   ],
   "source": [
    "# Training loop\n",
    "epochs = 5\n",
    "\n",
    "# Keep track of the loss, we'll plot it when we're done\n",
    "running_loss    = [0]*epochs\n",
    "\n",
    "# Loop on the epochs\n",
    "for e in range(epochs):\n",
    "    \n",
    "    for images, labels in trainloader:\n",
    "        # Flatten\n",
    "        images = images.view(images.shape[0], -1)\n",
    "\n",
    "        # Clear the gradients\n",
    "        optimizer.zero_grad()\n",
    "        \n",
    "        # Forward pass\n",
    "        output = model(images)\n",
    "\n",
    "        # Compute the loss\n",
    "        loss = criterion(output, labels)\n",
    "\n",
    "        # Backpropagate\n",
    "        loss.backward()\n",
    "\n",
    "        # Iterate the optimizer\n",
    "        optimizer.step()\n",
    "\n",
    "        running_loss[e] += loss.item()\n",
    "    \n",
    "    # Print the loss\n",
    "    running_loss[e] /= len(trainloader)\n",
    "    print(f\"Training loss ({e+1}): {running_loss[e]}\")"
   ]
  },
  {
   "cell_type": "code",
   "execution_count": 8,
   "metadata": {},
   "outputs": [
    {
     "name": "stdout",
     "output_type": "stream",
     "text": "tensor([[4.8375e-09, 1.5758e-13, 4.2228e-08, 1.5516e-07, 3.8315e-08, 1.1286e-07,\n         5.1260e-09, 6.5502e-12, 9.9124e-01, 2.1369e-12]],\n       grad_fn=<PowBackward2>)\n"
    },
    {
     "data": {
      "image/png": "[encoded data removed]",
      "text/plain": "<Figure size 432x648 with 2 Axes>"
     },
     "metadata": {
      "image/png": {
       "height": 216,
       "width": 424
      },
      "needs_background": "light"
     },
     "output_type": "display_data"
    }
   ],
   "source": [
    "%matplotlib inline\n",
    "%config InlineBackend.figure_format = 'retina'\n",
    "\n",
    "import helper\n",
    "\n",
    "# Test out your network!\n",
    "\n",
    "dataiter = iter(testloader)\n",
    "images, labels = dataiter.next()\n",
    "img = images[0]\n",
    "# Convert 2D image to 1D vector\n",
    "img = img.resize_(1, 784)\n",
    "\n",
    "# TODO: Calculate the class probabilities (softmax) for img\n",
    "ps = torch.pow(10,model(img))\n",
    "print(ps)\n",
    "\n",
    "# Plot the image and probabilities\n",
    "helper.view_classify(img.resize_(1, 28, 28), ps, version='Fashion')"
   ]
  },
  {
   "cell_type": "code",
   "execution_count": null,
   "metadata": {},
   "outputs": [],
   "source": []
  }
 ],
 "metadata": {
  "kernelspec": {
   "display_name": "Python 3",
   "language": "python",
   "name": "python3"
  },
  "language_info": {
   "codemirror_mode": {
    "name": "ipython",
    "version": 3
   },
   "file_extension": ".py",
   "mimetype": "text/x-python",
   "name": "python",
   "nbconvert_exporter": "python",
   "pygments_lexer": "ipython3",
   "version": "3.7.5"
  }
 },
 "nbformat": 4,
 "nbformat_minor": 2
}