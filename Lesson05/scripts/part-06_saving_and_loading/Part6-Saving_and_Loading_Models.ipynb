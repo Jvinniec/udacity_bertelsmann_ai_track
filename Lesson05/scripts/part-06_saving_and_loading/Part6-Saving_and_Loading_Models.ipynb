{
 "cells": [
  {
   "cell_type": "markdown",
   "metadata": {},
   "source": [
    "# Saving and Loading Models\n",
    "\n",
    "In this notebook, I'll show you how to save and load models with PyTorch. This is important because you'll often want to load previously trained models to use in making predictions or to continue training on new data."
   ]
  },
  {
   "cell_type": "code",
   "execution_count": 1,
   "metadata": {},
   "outputs": [],
   "source": [
    "%matplotlib inline\n",
    "%config InlineBackend.figure_format = 'retina'\n",
    "\n",
    "import matplotlib.pyplot as plt\n",
    "\n",
    "import torch\n",
    "from torch import nn\n",
    "from torch import optim\n",
    "import torch.nn.functional as F\n",
    "from torchvision import datasets, transforms\n",
    "\n",
    "import sys\n",
    "sys.path.append('Lesson05/scripts')\n",
    "import helper\n",
    "import fc_model"
   ]
  },
  {
   "cell_type": "code",
   "execution_count": 2,
   "metadata": {},
   "outputs": [],
   "source": [
    "# Define a transform to normalize the data\n",
    "transform = transforms.Compose([transforms.ToTensor(),\n",
    "                                transforms.Normalize((0.5,), (0.5,))])\n",
    "# Download and load the training data\n",
    "trainset = datasets.FashionMNIST('~/.pytorch/F_MNIST_data/', download=True, train=True, transform=transform)\n",
    "trainloader = torch.utils.data.DataLoader(trainset, batch_size=64, shuffle=True)\n",
    "\n",
    "# Download and load the test data\n",
    "testset = datasets.FashionMNIST('~/.pytorch/F_MNIST_data/', download=True, train=False, transform=transform)\n",
    "testloader = torch.utils.data.DataLoader(testset, batch_size=64, shuffle=True)"
   ]
  },
  {
   "cell_type": "markdown",
   "metadata": {},
   "source": [
    "Here we can see one of the images."
   ]
  },
  {
   "cell_type": "code",
   "execution_count": 3,
   "metadata": {},
   "outputs": [
    {
     "data": {
      "image/png": "[encoded data removed]",
      "text/plain": "<Figure size 432x288 with 1 Axes>"
     },
     "metadata": {
      "image/png": {
       "height": 231,
       "width": 231
      },
      "needs_background": "light"
     },
     "output_type": "display_data"
    }
   ],
   "source": [
    "image, label = next(iter(trainloader))\n",
    "helper.imshow(image[0,:]);"
   ]
  },
  {
   "cell_type": "markdown",
   "metadata": {},
   "source": [
    "# Train a network\n",
    "\n",
    "To make things more concise here, I moved the model architecture and training code from the last part to a file called `fc_model`. Importing this, we can easily create a fully-connected network with `fc_model.Network`, and train the network using `fc_model.train`. I'll use this model (once it's trained) to demonstrate how we can save and load models."
   ]
  },
  {
   "cell_type": "code",
   "execution_count": 4,
   "metadata": {},
   "outputs": [],
   "source": [
    "# Create the network, define the criterion and optimizer\n",
    "\n",
    "model = fc_model.Network(784, 10, [512, 256, 128])\n",
    "criterion = nn.NLLLoss()\n",
    "optimizer = optim.Adam(model.parameters(), lr=0.001)"
   ]
  },
  {
   "cell_type": "code",
   "execution_count": 5,
   "metadata": {},
   "outputs": [
    {
     "name": "stdout",
     "output_type": "stream",
     "text": "Epoch: 1/2..  Training Loss: 1.716..  Test Loss: 0.988..  Test Accuracy: 0.646\nEpoch: 1/2..  Training Loss: 1.048..  Test Loss: 0.735..  Test Accuracy: 0.720\nEpoch: 1/2..  Training Loss: 0.830..  Test Loss: 0.668..  Test Accuracy: 0.746\nEpoch: 1/2..  Training Loss: 0.823..  Test Loss: 0.641..  Test Accuracy: 0.752\nEpoch: 1/2..  Training Loss: 0.705..  Test Loss: 0.600..  Test Accuracy: 0.767\nEpoch: 1/2..  Training Loss: 0.693..  Test Loss: 0.594..  Test Accuracy: 0.774\nEpoch: 1/2..  Training Loss: 0.724..  Test Loss: 0.603..  Test Accuracy: 0.770\nEpoch: 1/2..  Training Loss: 0.650..  Test Loss: 0.558..  Test Accuracy: 0.791\nEpoch: 1/2..  Training Loss: 0.675..  Test Loss: 0.567..  Test Accuracy: 0.782\nEpoch: 1/2..  Training Loss: 0.645..  Test Loss: 0.540..  Test Accuracy: 0.797\nEpoch: 1/2..  Training Loss: 0.638..  Test Loss: 0.528..  Test Accuracy: 0.804\nEpoch: 1/2..  Training Loss: 0.644..  Test Loss: 0.544..  Test Accuracy: 0.795\nEpoch: 1/2..  Training Loss: 0.634..  Test Loss: 0.540..  Test Accuracy: 0.803\nEpoch: 1/2..  Training Loss: 0.620..  Test Loss: 0.518..  Test Accuracy: 0.811\nEpoch: 1/2..  Training Loss: 0.571..  Test Loss: 0.519..  Test Accuracy: 0.810\nEpoch: 1/2..  Training Loss: 0.574..  Test Loss: 0.503..  Test Accuracy: 0.813\nEpoch: 1/2..  Training Loss: 0.579..  Test Loss: 0.517..  Test Accuracy: 0.806\nEpoch: 1/2..  Training Loss: 0.582..  Test Loss: 0.500..  Test Accuracy: 0.821\nEpoch: 1/2..  Training Loss: 0.607..  Test Loss: 0.499..  Test Accuracy: 0.816\nEpoch: 1/2..  Training Loss: 0.601..  Test Loss: 0.486..  Test Accuracy: 0.826\nEpoch: 1/2..  Training Loss: 0.573..  Test Loss: 0.488..  Test Accuracy: 0.821\nEpoch: 1/2..  Training Loss: 0.601..  Test Loss: 0.476..  Test Accuracy: 0.824\nEpoch: 1/2..  Training Loss: 0.555..  Test Loss: 0.482..  Test Accuracy: 0.817\nEpoch: 2/2..  Training Loss: 0.533..  Test Loss: 0.479..  Test Accuracy: 0.826\nEpoch: 2/2..  Training Loss: 0.575..  Test Loss: 0.482..  Test Accuracy: 0.821\nEpoch: 2/2..  Training Loss: 0.583..  Test Loss: 0.456..  Test Accuracy: 0.831\nEpoch: 2/2..  Training Loss: 0.517..  Test Loss: 0.461..  Test Accuracy: 0.833\nEpoch: 2/2..  Training Loss: 0.570..  Test Loss: 0.456..  Test Accuracy: 0.829\nEpoch: 2/2..  Training Loss: 0.528..  Test Loss: 0.454..  Test Accuracy: 0.829\nEpoch: 2/2..  Training Loss: 0.539..  Test Loss: 0.461..  Test Accuracy: 0.828\nEpoch: 2/2..  Training Loss: 0.550..  Test Loss: 0.453..  Test Accuracy: 0.829\nEpoch: 2/2..  Training Loss: 0.526..  Test Loss: 0.460..  Test Accuracy: 0.830\nEpoch: 2/2..  Training Loss: 0.537..  Test Loss: 0.452..  Test Accuracy: 0.831\nEpoch: 2/2..  Training Loss: 0.544..  Test Loss: 0.457..  Test Accuracy: 0.831\nEpoch: 2/2..  Training Loss: 0.490..  Test Loss: 0.454..  Test Accuracy: 0.832\nEpoch: 2/2..  Training Loss: 0.510..  Test Loss: 0.462..  Test Accuracy: 0.828\nEpoch: 2/2..  Training Loss: 0.515..  Test Loss: 0.438..  Test Accuracy: 0.835\nEpoch: 2/2..  Training Loss: 0.518..  Test Loss: 0.438..  Test Accuracy: 0.838\nEpoch: 2/2..  Training Loss: 0.534..  Test Loss: 0.450..  Test Accuracy: 0.835\nEpoch: 2/2..  Training Loss: 0.522..  Test Loss: 0.467..  Test Accuracy: 0.829\nEpoch: 2/2..  Training Loss: 0.512..  Test Loss: 0.437..  Test Accuracy: 0.838\nEpoch: 2/2..  Training Loss: 0.537..  Test Loss: 0.463..  Test Accuracy: 0.828\nEpoch: 2/2..  Training Loss: 0.508..  Test Loss: 0.450..  Test Accuracy: 0.835\nEpoch: 2/2..  Training Loss: 0.535..  Test Loss: 0.458..  Test Accuracy: 0.834\nEpoch: 2/2..  Training Loss: 0.512..  Test Loss: 0.447..  Test Accuracy: 0.841\nEpoch: 2/2..  Training Loss: 0.522..  Test Loss: 0.434..  Test Accuracy: 0.837\n"
    }
   ],
   "source": [
    "fc_model.train(model, trainloader, testloader, criterion, optimizer, epochs=2)"
   ]
  },
  {
   "cell_type": "markdown",
   "metadata": {},
   "source": [
    "## Saving and loading networks\n",
    "\n",
    "As you can imagine, it's impractical to train a network every time you need to use it. Instead, we can save trained networks then load them later to train more or use them for predictions.\n",
    "\n",
    "The parameters for PyTorch networks are stored in a model's `state_dict`. We can see the state dict contains the weight and bias matrices for each of our layers."
   ]
  },
  {
   "cell_type": "code",
   "execution_count": 6,
   "metadata": {},
   "outputs": [
    {
     "name": "stdout",
     "output_type": "stream",
     "text": "Our model: \n\n Network(\n  (hidden_layers): ModuleList(\n    (0): Linear(in_features=784, out_features=512, bias=True)\n    (1): Linear(in_features=512, out_features=256, bias=True)\n    (2): Linear(in_features=256, out_features=128, bias=True)\n  )\n  (output): Linear(in_features=128, out_features=10, bias=True)\n  (dropout): Dropout(p=0.5, inplace=False)\n) \n\nThe state dict keys: \n\n odict_keys(['hidden_layers.0.weight', 'hidden_layers.0.bias', 'hidden_layers.1.weight', 'hidden_layers.1.bias', 'hidden_layers.2.weight', 'hidden_layers.2.bias', 'output.weight', 'output.bias'])\n"
    }
   ],
   "source": [
    "print(\"Our model: \\n\\n\", model, '\\n')\n",
    "print(\"The state dict keys: \\n\\n\", model.state_dict().keys())"
   ]
  },
  {
   "cell_type": "markdown",
   "metadata": {},
   "source": [
    "The simplest thing to do is simply save the state dict with `torch.save`. For example, we can save it to a file `'checkpoint.pth'`."
   ]
  },
  {
   "cell_type": "code",
   "execution_count": 7,
   "metadata": {},
   "outputs": [],
   "source": [
    "torch.save(model.state_dict(), 'Lesson05/scripts/part-06_saving_and_loading/models/checkpoint.pth')"
   ]
  },
  {
   "cell_type": "markdown",
   "metadata": {},
   "source": [
    "Then we can load the state dict with `torch.load`."
   ]
  },
  {
   "cell_type": "code",
   "execution_count": 8,
   "metadata": {},
   "outputs": [
    {
     "name": "stdout",
     "output_type": "stream",
     "text": "odict_keys(['hidden_layers.0.weight', 'hidden_layers.0.bias', 'hidden_layers.1.weight', 'hidden_layers.1.bias', 'hidden_layers.2.weight', 'hidden_layers.2.bias', 'output.weight', 'output.bias'])\n"
    }
   ],
   "source": [
    "state_dict = torch.load('Lesson05/scripts/part-06_saving_and_loading/models/checkpoint.pth')\n",
    "print(state_dict.keys())"
   ]
  },
  {
   "cell_type": "markdown",
   "metadata": {},
   "source": [
    "And to load the state dict in to the network, you do `model.load_state_dict(state_dict)`."
   ]
  },
  {
   "cell_type": "code",
   "execution_count": 9,
   "metadata": {},
   "outputs": [
    {
     "data": {
      "text/plain": "<All keys matched successfully>"
     },
     "execution_count": 9,
     "metadata": {},
     "output_type": "execute_result"
    }
   ],
   "source": [
    "model.load_state_dict(state_dict)"
   ]
  },
  {
   "cell_type": "markdown",
   "metadata": {},
   "source": [
    "Seems pretty straightforward, but as usual it's a bit more complicated. Loading the state dict works only if the model architecture is exactly the same as the checkpoint architecture. If I create a model with a different architecture, this fails."
   ]
  },
  {
   "cell_type": "code",
   "execution_count": 10,
   "metadata": {},
   "outputs": [
    {
     "name": "stdout",
     "output_type": "stream",
     "text": "Error(s) in loading state_dict for Network:\n\tsize mismatch for hidden_layers.0.weight: copying a param with shape torch.Size([512, 784]) from checkpoint, the shape in current model is torch.Size([400, 784]).\n\tsize mismatch for hidden_layers.0.bias: copying a param with shape torch.Size([512]) from checkpoint, the shape in current model is torch.Size([400]).\n\tsize mismatch for hidden_layers.1.weight: copying a param with shape torch.Size([256, 512]) from checkpoint, the shape in current model is torch.Size([200, 400]).\n\tsize mismatch for hidden_layers.1.bias: copying a param with shape torch.Size([256]) from checkpoint, the shape in current model is torch.Size([200]).\n\tsize mismatch for hidden_layers.2.weight: copying a param with shape torch.Size([128, 256]) from checkpoint, the shape in current model is torch.Size([100, 200]).\n\tsize mismatch for hidden_layers.2.bias: copying a param with shape torch.Size([128]) from checkpoint, the shape in current model is torch.Size([100]).\n\tsize mismatch for output.weight: copying a param with shape torch.Size([10, 128]) from checkpoint, the shape in current model is torch.Size([10, 100]).\n"
    }
   ],
   "source": [
    "# Try this\n",
    "model = fc_model.Network(784, 10, [400, 200, 100])\n",
    "# This will throw an error because the tensor sizes are wrong!\n",
    "try:\n",
    "    model.load_state_dict(state_dict)\n",
    "except RuntimeError as err:\n",
    "    print(err)"
   ]
  },
  {
   "cell_type": "markdown",
   "metadata": {},
   "source": [
    "This means we need to rebuild the model exactly as it was when trained. Information about the model architecture needs to be saved in the checkpoint, along with the state dict. To do this, you build a dictionary with all the information you need to compeletely rebuild the model."
   ]
  },
  {
   "cell_type": "code",
   "execution_count": 11,
   "metadata": {},
   "outputs": [],
   "source": [
    "checkpoint = {'input_size': 784,\n",
    "              'output_size': 10,\n",
    "              'hidden_layers': [each.out_features for each in model.hidden_layers],\n",
    "              'state_dict': model.state_dict()}\n",
    "\n",
    "torch.save(checkpoint, 'Lesson05/scripts/part-06_saving_and_loading/models/checkpoint.pth')"
   ]
  },
  {
   "cell_type": "markdown",
   "metadata": {},
   "source": [
    "Now the checkpoint has all the necessary information to rebuild the trained model. You can easily make that a function if you want. Similarly, we can write a function to load checkpoints. "
   ]
  },
  {
   "cell_type": "code",
   "execution_count": 12,
   "metadata": {},
   "outputs": [],
   "source": [
    "def load_checkpoint(filepath):\n",
    "    checkpoint = torch.load(filepath)\n",
    "    model = fc_model.Network(checkpoint['input_size'],\n",
    "                             checkpoint['output_size'],\n",
    "                             checkpoint['hidden_layers'])\n",
    "    model.load_state_dict(checkpoint['state_dict'])\n",
    "    \n",
    "    return model"
   ]
  },
  {
   "cell_type": "code",
   "execution_count": 13,
   "metadata": {},
   "outputs": [
    {
     "name": "stdout",
     "output_type": "stream",
     "text": "Network(\n  (hidden_layers): ModuleList(\n    (0): Linear(in_features=784, out_features=400, bias=True)\n    (1): Linear(in_features=400, out_features=200, bias=True)\n    (2): Linear(in_features=200, out_features=100, bias=True)\n  )\n  (output): Linear(in_features=100, out_features=10, bias=True)\n  (dropout): Dropout(p=0.5, inplace=False)\n)\n"
    }
   ],
   "source": [
    "model = load_checkpoint('Lesson05/scripts/part-06_saving_and_loading/models/checkpoint.pth')\n",
    "print(model)"
   ]
  },
  {
   "cell_type": "code",
   "execution_count": null,
   "metadata": {},
   "outputs": [],
   "source": []
  }
 ],
 "metadata": {
  "kernelspec": {
   "display_name": "Python 3",
   "language": "python",
   "name": "python3"
  },
  "language_info": {
   "codemirror_mode": {
    "name": "ipython",
    "version": 3
   },
   "file_extension": ".py",
   "mimetype": "text/x-python",
   "name": "python",
   "nbconvert_exporter": "python",
   "pygments_lexer": "ipython3",
   "version": "3.7.5"
  }
 },
 "nbformat": 4,
 "nbformat_minor": 2
}