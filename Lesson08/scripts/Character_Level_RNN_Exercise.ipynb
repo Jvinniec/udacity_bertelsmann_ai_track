{
  "nbformat": 4,
  "nbformat_minor": 0,
  "metadata": {
    "kernelspec": {
      "name": "python3",
      "display_name": "Python 3"
    },
    "language_info": {
      "codemirror_mode": {
        "name": "ipython",
        "version": 3
      },
      "file_extension": ".py",
      "mimetype": "text/x-python",
      "name": "python",
      "nbconvert_exporter": "python",
      "pygments_lexer": "ipython3",
      "version": "3.6.4"
    },
    "colab": {
      "name": "Character_Level_RNN_Exercise.ipynb",
      "provenance": [],
      "collapsed_sections": []
    },
    "accelerator": "GPU"
  },
  "cells": [
    {
      "cell_type": "markdown",
      "metadata": {
        "id": "SXi6fjQUPOAF",
        "colab_type": "text"
      },
      "source": [
        "# Character-Level LSTM in PyTorch\n",
        "\n",
        "In this notebook, I'll construct a character-level LSTM with PyTorch. The network will train character by character on some text, then generate new text character by character. As an example, I will train on Anna Karenina. **This model will be able to generate new text based on the text from the book!**\n",
        "\n",
        "This network is based off of Andrej Karpathy's [post on RNNs](http://karpathy.github.io/2015/05/21/rnn-effectiveness/) and [implementation in Torch](https://github.com/karpathy/char-rnn). Below is the general architecture of the character-wise RNN.\n",
        "\n",
        "<img src=\"assets/charseq.jpeg\" width=\"500\">"
      ]
    },
    {
      "cell_type": "markdown",
      "metadata": {
        "id": "_bglwz7WPOAI",
        "colab_type": "text"
      },
      "source": [
        "First let's load in our required resources for data loading and model creation."
      ]
    },
    {
      "cell_type": "code",
      "metadata": {
        "id": "Ib_PXENZPOAK",
        "colab_type": "code",
        "colab": {}
      },
      "source": [
        "import numpy as np\n",
        "import torch\n",
        "from torch import nn\n",
        "import torch.nn.functional as F"
      ],
      "execution_count": 0,
      "outputs": []
    },
    {
      "cell_type": "markdown",
      "metadata": {
        "id": "4Z9Alz4vPOAQ",
        "colab_type": "text"
      },
      "source": [
        "## Load in Data\n",
        "\n",
        "Then, we'll load the Anna Karenina text file and convert it into integers for our network to use. "
      ]
    },
    {
      "cell_type": "code",
      "metadata": {
        "id": "dqrXpF9-PXc_",
        "colab_type": "code",
        "outputId": "b4076a6c-f963-4b90-8fa8-9675835ef03d",
        "colab": {
          "base_uri": "https://localhost:8080/",
          "height": 309
        }
      },
      "source": [
        "!wget https://github.com/udacity/deep-learning-v2-pytorch/raw/master/recurrent-neural-networks/char-rnn/data/anna.txt"
      ],
      "execution_count": 3,
      "outputs": [
        {
          "output_type": "stream",
          "text": [
            "--2020-02-02 21:52:29--  https://github.com/udacity/deep-learning-v2-pytorch/raw/master/recurrent-neural-networks/char-rnn/data/anna.txt\n",
            "Resolving github.com (github.com)... 52.74.223.119\n",
            "Connecting to github.com (github.com)|52.74.223.119|:443... connected.\n",
            "HTTP request sent, awaiting response... 302 Found\n",
            "Location: https://raw.githubusercontent.com/udacity/deep-learning-v2-pytorch/master/recurrent-neural-networks/char-rnn/data/anna.txt [following]\n",
            "--2020-02-02 21:52:29--  https://raw.githubusercontent.com/udacity/deep-learning-v2-pytorch/master/recurrent-neural-networks/char-rnn/data/anna.txt\n",
            "Resolving raw.githubusercontent.com (raw.githubusercontent.com)... 151.101.0.133, 151.101.64.133, 151.101.128.133, ...\n",
            "Connecting to raw.githubusercontent.com (raw.githubusercontent.com)|151.101.0.133|:443... connected.\n",
            "HTTP request sent, awaiting response... 200 OK\n",
            "Length: 2025486 (1.9M) [text/plain]\n",
            "Saving to: ‘anna.txt’\n",
            "\n",
            "\ranna.txt              0%[                    ]       0  --.-KB/s               \ranna.txt            100%[===================>]   1.93M  --.-KB/s    in 0.03s   \n",
            "\n",
            "2020-02-02 21:52:30 (64.4 MB/s) - ‘anna.txt’ saved [2025486/2025486]\n",
            "\n"
          ],
          "name": "stdout"
        }
      ]
    },
    {
      "cell_type": "code",
      "metadata": {
        "id": "EnmQeutXPOAT",
        "colab_type": "code",
        "colab": {}
      },
      "source": [
        "# open text file and read in data as `text`\n",
        "with open('anna.txt', 'r') as f:\n",
        "    text = f.read()"
      ],
      "execution_count": 0,
      "outputs": []
    },
    {
      "cell_type": "markdown",
      "metadata": {
        "id": "52v8kHwEPOAX",
        "colab_type": "text"
      },
      "source": [
        "Let's check out the first 100 characters, make sure everything is peachy. According to the [American Book Review](http://americanbookreview.org/100bestlines.asp), this is the 6th best first line of a book ever."
      ]
    },
    {
      "cell_type": "code",
      "metadata": {
        "id": "TTleGx7VPOAY",
        "colab_type": "code",
        "outputId": "41e27cc3-021c-4d36-c603-17adab7211be",
        "colab": {
          "base_uri": "https://localhost:8080/",
          "height": 54
        }
      },
      "source": [
        "text[:100]"
      ],
      "execution_count": 5,
      "outputs": [
        {
          "output_type": "execute_result",
          "data": {
            "text/plain": [
              "'Chapter 1\\n\\n\\nHappy families are all alike; every unhappy family is unhappy in its own\\nway.\\n\\nEverythin'"
            ]
          },
          "metadata": {
            "tags": []
          },
          "execution_count": 5
        }
      ]
    },
    {
      "cell_type": "markdown",
      "metadata": {
        "id": "ZfIsVNuRPOAc",
        "colab_type": "text"
      },
      "source": [
        "### Tokenization\n",
        "\n",
        "In the cells, below, I'm creating a couple **dictionaries** to convert the characters to and from integers. Encoding the characters as integers makes it easier to use as input in the network."
      ]
    },
    {
      "cell_type": "code",
      "metadata": {
        "id": "YLiKJA74POAd",
        "colab_type": "code",
        "outputId": "23437d4e-6cf0-4f18-bb15-af4ea57ebff3",
        "colab": {
          "base_uri": "https://localhost:8080/",
          "height": 51
        }
      },
      "source": [
        "# encode the text and map each character to an integer and vice versa\n",
        "\n",
        "# we create two dictionaries:\n",
        "# 1. int2char, which maps integers to characters\n",
        "# 2. char2int, which maps characters to unique integers\n",
        "chars = tuple(set(text))\n",
        "int2char = dict(enumerate(chars))\n",
        "char2int = {ch: ii for ii, ch in int2char.items()}\n",
        "\n",
        "# encode the text\n",
        "encoded = np.array([char2int[ch] for ch in text])\n",
        "max_enc = np.max(encoded)\n",
        "print(max_enc)\n",
        "print(f'Num characters: {len(text)}')"
      ],
      "execution_count": 6,
      "outputs": [
        {
          "output_type": "stream",
          "text": [
            "82\n",
            "Num characters: 1985223\n"
          ],
          "name": "stdout"
        }
      ]
    },
    {
      "cell_type": "markdown",
      "metadata": {
        "id": "dQMnr6eePOAh",
        "colab_type": "text"
      },
      "source": [
        "And we can see those same characters from above, encoded as integers."
      ]
    },
    {
      "cell_type": "code",
      "metadata": {
        "id": "QrWtMw1qPOAj",
        "colab_type": "code",
        "outputId": "acf5c9c9-6cb9-4e5d-9821-d2c3d98bc6b6",
        "colab": {
          "base_uri": "https://localhost:8080/",
          "height": 119
        }
      },
      "source": [
        "encoded[:100]"
      ],
      "execution_count": 7,
      "outputs": [
        {
          "output_type": "execute_result",
          "data": {
            "text/plain": [
              "array([10, 36, 70, 49, 43,  8, 13, 65, 17,  2,  2,  2, 68, 70, 49, 49, 46,\n",
              "       65, 72, 70, 27, 60, 51, 60,  8, 38, 65, 70, 13,  8, 65, 70, 51, 51,\n",
              "       65, 70, 51, 60, 44,  8, 53, 65,  8, 50,  8, 13, 46, 65, 14, 18, 36,\n",
              "       70, 49, 49, 46, 65, 72, 70, 27, 60, 51, 46, 65, 60, 38, 65, 14, 18,\n",
              "       36, 70, 49, 49, 46, 65, 60, 18, 65, 60, 43, 38, 65, 71,  3, 18,  2,\n",
              "        3, 70, 46, 54,  2,  2, 63, 50,  8, 13, 46, 43, 36, 60, 18])"
            ]
          },
          "metadata": {
            "tags": []
          },
          "execution_count": 7
        }
      ]
    },
    {
      "cell_type": "markdown",
      "metadata": {
        "id": "iimjRrrIPOAm",
        "colab_type": "text"
      },
      "source": [
        "## Pre-processing the data\n",
        "\n",
        "As you can see in our char-RNN image above, our LSTM expects an input that is **one-hot encoded** meaning that each character is converted into an integer (via our created dictionary) and *then* converted into a column vector where only it's corresponding integer index will have the value of 1 and the rest of the vector will be filled with 0's. Since we're one-hot encoding the data, let's make a function to do that!\n"
      ]
    },
    {
      "cell_type": "code",
      "metadata": {
        "id": "azYM0mQ9POAn",
        "colab_type": "code",
        "colab": {}
      },
      "source": [
        "def one_hot_encode(arr, n_labels):\n",
        "    \n",
        "    # Initialize the the encoded array\n",
        "    one_hot = np.zeros((arr.size, n_labels), dtype=np.float32)\n",
        "    \n",
        "    # Fill the appropriate elements with ones\n",
        "    one_hot[np.arange(one_hot.shape[0]), arr.flatten()] = 1.\n",
        "    \n",
        "    # Finally reshape it to get back to the original array\n",
        "    one_hot = one_hot.reshape((*arr.shape, n_labels))\n",
        "    \n",
        "    return one_hot"
      ],
      "execution_count": 0,
      "outputs": []
    },
    {
      "cell_type": "code",
      "metadata": {
        "id": "OJbzv6ljPOAq",
        "colab_type": "code",
        "outputId": "365dc9e7-5092-4b30-c3cd-1ce8c768905f",
        "colab": {
          "base_uri": "https://localhost:8080/",
          "height": 68
        }
      },
      "source": [
        "# check that the function works as expected\n",
        "test_seq = np.array([[3, 5, 1]])\n",
        "one_hot = one_hot_encode(test_seq, 8)\n",
        "\n",
        "print(one_hot)"
      ],
      "execution_count": 9,
      "outputs": [
        {
          "output_type": "stream",
          "text": [
            "[[[0. 0. 0. 1. 0. 0. 0. 0.]\n",
            "  [0. 0. 0. 0. 0. 1. 0. 0.]\n",
            "  [0. 1. 0. 0. 0. 0. 0. 0.]]]\n"
          ],
          "name": "stdout"
        }
      ]
    },
    {
      "cell_type": "markdown",
      "metadata": {
        "id": "5JxZgbqYPOAt",
        "colab_type": "text"
      },
      "source": [
        "## Making training mini-batches\n",
        "\n",
        "\n",
        "To train on this data, we also want to create mini-batches for training. Remember that we want our batches to be multiple sequences of some desired number of sequence steps. Considering a simple example, our batches would look like this:\n",
        "\n",
        "<img src=\"assets/sequence_batching@1x.png\" width=500px>\n",
        "\n",
        "\n",
        "<br>\n",
        "\n",
        "In this example, we'll take the encoded characters (passed in as the `arr` parameter) and split them into multiple sequences, given by `batch_size`. Each of our sequences will be `seq_length` long.\n",
        "\n",
        "### Creating Batches\n",
        "\n",
        "**1. The first thing we need to do is discard some of the text so we only have completely full mini-batches. **\n",
        "\n",
        "Each batch contains $N \\times M$ characters, where $N$ is the batch size (the number of sequences in a batch) and $M$ is the seq_length or number of time steps in a sequence. Then, to get the total number of batches, $K$, that we can make from the array `arr`, you divide the length of `arr` by the number of characters per batch. Once you know the number of batches, you can get the total number of characters to keep from `arr`, $N * M * K$.\n",
        "\n",
        "**2. After that, we need to split `arr` into $N$ batches. ** \n",
        "\n",
        "You can do this using `arr.reshape(size)` where `size` is a tuple containing the dimensions sizes of the reshaped array. We know we want $N$ sequences in a batch, so let's make that the size of the first dimension. For the second dimension, you can use `-1` as a placeholder in the size, it'll fill up the array with the appropriate data for you. After this, you should have an array that is $N \\times (M * K)$.\n",
        "\n",
        "**3. Now that we have this array, we can iterate through it to get our mini-batches. **\n",
        "\n",
        "The idea is each batch is a $N \\times M$ window on the $N \\times (M * K)$ array. For each subsequent batch, the window moves over by `seq_length`. We also want to create both the input and target arrays. Remember that the targets are just the inputs shifted over by one character. The way I like to do this window is use `range` to take steps of size `n_steps` from $0$ to `arr.shape[1]`, the total number of tokens in each sequence. That way, the integers you get from `range` always point to the start of a batch, and each window is `seq_length` wide.\n",
        "\n",
        "> **TODO:** Write the code for creating batches in the function below. The exercises in this notebook _will not be easy_. I've provided a notebook with solutions alongside this notebook. If you get stuck, checkout the solutions. The most important thing is that you don't copy and paste the code into here, **type out the solution code yourself.**"
      ]
    },
    {
      "cell_type": "code",
      "metadata": {
        "id": "Kguw1cEhPOAv",
        "colab_type": "code",
        "colab": {}
      },
      "source": [
        "def get_batches(arr, batch_size, seq_length):\n",
        "    '''Create a generator that returns batches of size\n",
        "       batch_size x seq_length from arr.\n",
        "       \n",
        "       Arguments\n",
        "       ---------\n",
        "       arr: Array you want to make batches from\n",
        "       batch_size: Batch size, the number of sequences per batch\n",
        "       seq_length: Number of encoded chars in a sequence\n",
        "    '''\n",
        "    ## Entries in arr\n",
        "    arr_size = len(arr)\n",
        "    batch_length = batch_size*seq_length\n",
        "\n",
        "    ## TODO: Get the number of batches we can make\n",
        "    n_batches = arr_size // batch_length\n",
        "    \n",
        "    ## TODO: Keep only enough characters to make full batches\n",
        "    trim = arr_size % batch_length\n",
        "    arr  = arr[:arr_size-trim]\n",
        "    \n",
        "    ## TODO: Reshape into batch_size rows\n",
        "    arr = arr.reshape((batch_size, n_batches*seq_length))\n",
        "    \n",
        "    ## TODO: Iterate over the batches using a window of size seq_length\n",
        "    for n in range(0, n_batches):\n",
        "        start = n*seq_length\n",
        "        stop  = (n+1)*seq_length\n",
        "\n",
        "        # The features\n",
        "        x = arr[:, start:stop]\n",
        "        # The targets, shifted by one\n",
        "        if n < (n_batches-1):\n",
        "          y = arr[:, start+1:stop+1]\n",
        "        else:\n",
        "          y = np.zeros(x.shape)\n",
        "          y[:,:-1] = arr[:, start+1:stop]\n",
        "          for i in range(len(y)-1):\n",
        "            y[i,-1] = arr[i+1, 0]\n",
        "          y[-1,-1] = arr[0,0]\n",
        "\n",
        "        yield x, y"
      ],
      "execution_count": 0,
      "outputs": []
    },
    {
      "cell_type": "markdown",
      "metadata": {
        "id": "Y5lceSTxPOAy",
        "colab_type": "text"
      },
      "source": [
        "### Test Your Implementation\n",
        "\n",
        "Now I'll make some data sets and we can check out what's going on as we batch data. Here, as an example, I'm going to use a batch size of 8 and 50 sequence steps."
      ]
    },
    {
      "cell_type": "code",
      "metadata": {
        "id": "ZGsn9kj3POAz",
        "colab_type": "code",
        "colab": {}
      },
      "source": [
        "batches = get_batches(encoded, 8, 50)\n",
        "x, y = next(batches)"
      ],
      "execution_count": 0,
      "outputs": []
    },
    {
      "cell_type": "code",
      "metadata": {
        "id": "7KnObVECPOA2",
        "colab_type": "code",
        "outputId": "6adc47be-8f9d-4ada-af31-6ecdb7149c64",
        "colab": {
          "base_uri": "https://localhost:8080/",
          "height": 340
        }
      },
      "source": [
        "# printing out the first 10 items in a sequence\n",
        "print('x\\n', x[:10, :10])\n",
        "print('\\ny\\n', y[:10, :10])"
      ],
      "execution_count": 12,
      "outputs": [
        {
          "output_type": "stream",
          "text": [
            "x\n",
            " [[10 36 70 49 43  8 13 65 17  2]\n",
            " [38 71 18 65 43 36 70 43 65 70]\n",
            " [ 8 18 15 65 71 13 65 70 65 72]\n",
            " [38 65 43 36  8 65  1 36 60  8]\n",
            " [65 38 70  3 65 36  8 13 65 43]\n",
            " [ 1 14 38 38 60 71 18 65 70 18]\n",
            " [65 29 18 18 70 65 36 70 15 65]\n",
            " [28 78 51 71 18 38 44 46 54 65]]\n",
            "\n",
            "y\n",
            " [[36 70 49 43  8 13 65 17  2  2]\n",
            " [71 18 65 43 36 70 43 65 70 43]\n",
            " [18 15 65 71 13 65 70 65 72 71]\n",
            " [65 43 36  8 65  1 36 60  8 72]\n",
            " [38 70  3 65 36  8 13 65 43  8]\n",
            " [14 38 38 60 71 18 65 70 18 15]\n",
            " [29 18 18 70 65 36 70 15 65 38]\n",
            " [78 51 71 18 38 44 46 54 65 47]]\n"
          ],
          "name": "stdout"
        }
      ]
    },
    {
      "cell_type": "markdown",
      "metadata": {
        "id": "z7UfvjDgPOA5",
        "colab_type": "text"
      },
      "source": [
        "If you implemented `get_batches` correctly, the above output should look something like \n",
        "```\n",
        "x\n",
        " [[25  8 60 11 45 27 28 73  1  2]\n",
        " [17  7 20 73 45  8 60 45 73 60]\n",
        " [27 20 80 73  7 28 73 60 73 65]\n",
        " [17 73 45  8 27 73 66  8 46 27]\n",
        " [73 17 60 12 73  8 27 28 73 45]\n",
        " [66 64 17 17 46  7 20 73 60 20]\n",
        " [73 76 20 20 60 73  8 60 80 73]\n",
        " [47 35 43  7 20 17 24 50 37 73]]\n",
        "\n",
        "y\n",
        " [[ 8 60 11 45 27 28 73  1  2  2]\n",
        " [ 7 20 73 45  8 60 45 73 60 45]\n",
        " [20 80 73  7 28 73 60 73 65  7]\n",
        " [73 45  8 27 73 66  8 46 27 65]\n",
        " [17 60 12 73  8 27 28 73 45 27]\n",
        " [64 17 17 46  7 20 73 60 20 80]\n",
        " [76 20 20 60 73  8 60 80 73 17]\n",
        " [35 43  7 20 17 24 50 37 73 36]]\n",
        " ```\n",
        " although the exact numbers may be different. Check to make sure the data is shifted over one step for `y`."
      ]
    },
    {
      "cell_type": "markdown",
      "metadata": {
        "id": "qbJ2pb9MPOA6",
        "colab_type": "text"
      },
      "source": [
        "---\n",
        "## Defining the network with PyTorch\n",
        "\n",
        "Below is where you'll define the network.\n",
        "\n",
        "<img src=\"assets/charRNN.png\" width=500px>\n",
        "\n",
        "Next, you'll use PyTorch to define the architecture of the network. We start by defining the layers and operations we want. Then, define a method for the forward pass. You've also been given a method for predicting characters."
      ]
    },
    {
      "cell_type": "markdown",
      "metadata": {
        "id": "W7RhxrsBPOA7",
        "colab_type": "text"
      },
      "source": [
        "### Model Structure\n",
        "\n",
        "In `__init__` the suggested structure is as follows:\n",
        "* Create and store the necessary dictionaries (this has been done for you)\n",
        "* Define an LSTM layer that takes as params: an input size (the number of characters), a hidden layer size `n_hidden`, a number of layers `n_layers`, a dropout probability `drop_prob`, and a batch_first boolean (True, since we are batching)\n",
        "* Define a dropout layer with `drop_prob`\n",
        "* Define a fully-connected layer with params: input size `n_hidden` and output size (the number of characters)\n",
        "* Finally, initialize the weights (again, this has been given)\n",
        "\n",
        "Note that some parameters have been named and given in the `__init__` function, and we use them and store them by doing something like `self.drop_prob = drop_prob`."
      ]
    },
    {
      "cell_type": "markdown",
      "metadata": {
        "id": "Vgkw_EcrPOA8",
        "colab_type": "text"
      },
      "source": [
        "---\n",
        "### LSTM Inputs/Outputs\n",
        "\n",
        "You can create a basic [LSTM layer](https://pytorch.org/docs/stable/nn.html#lstm) as follows\n",
        "\n",
        "```python\n",
        "self.lstm = nn.LSTM(input_size, n_hidden, n_layers, \n",
        "                            dropout=drop_prob, batch_first=True)\n",
        "```\n",
        "\n",
        "where `input_size` is the number of characters this cell expects to see as sequential input, and `n_hidden` is the number of units in the hidden layers in the cell. And we can add dropout by adding a dropout parameter with a specified probability; this will automatically add dropout to the inputs or outputs. Finally, in the `forward` function, we can stack up the LSTM cells into layers using `.view`. With this, you pass in a list of cells and it will send the output of one cell into the next cell.\n",
        "\n",
        "We also need to create an initial hidden state of all zeros. This is done like so\n",
        "\n",
        "```python\n",
        "self.init_hidden()\n",
        "```"
      ]
    },
    {
      "cell_type": "code",
      "metadata": {
        "id": "91rZmVt6POA9",
        "colab_type": "code",
        "outputId": "fcd97082-ac52-47cd-ad5d-5f30932128d6",
        "colab": {
          "base_uri": "https://localhost:8080/",
          "height": 34
        }
      },
      "source": [
        "# check if GPU is available\n",
        "train_on_gpu = torch.cuda.is_available()\n",
        "if(train_on_gpu):\n",
        "    print('Training on GPU!')\n",
        "else: \n",
        "    print('No GPU available, training on CPU; consider making n_epochs very small.')"
      ],
      "execution_count": 13,
      "outputs": [
        {
          "output_type": "stream",
          "text": [
            "Training on GPU!\n"
          ],
          "name": "stdout"
        }
      ]
    },
    {
      "cell_type": "code",
      "metadata": {
        "id": "ucylHYWbPOBG",
        "colab_type": "code",
        "colab": {}
      },
      "source": [
        "import torch.nn.functional as F\n",
        "\n",
        "class CharRNN(nn.Module):\n",
        "    \n",
        "    def __init__(self, tokens, n_hidden=256, n_layers=2,\n",
        "                               drop_prob=0.5, lr=0.001):\n",
        "        super().__init__()\n",
        "        self.drop_prob = drop_prob\n",
        "        self.n_layers = n_layers\n",
        "        self.n_hidden = n_hidden\n",
        "        self.lr = lr\n",
        "        \n",
        "        # creating character dictionaries\n",
        "        self.chars    = tokens\n",
        "        self.int2char = dict(enumerate(self.chars))\n",
        "        self.char2int = {ch: ii for ii, ch in self.int2char.items()}\n",
        "\n",
        "        # Number of input/output characters\n",
        "        n_chars = len(self.chars)\n",
        "\n",
        "        # Define the layers of the model\n",
        "        self.lstm = nn.LSTM(input_size=n_chars,\n",
        "                            hidden_size=n_hidden,\n",
        "                            num_layers=n_layers,\n",
        "                            dropout=drop_prob,\n",
        "                            batch_first=True)\n",
        "        self.drop_prob = drop_prob\n",
        "        self.fc = nn.Linear(n_hidden, n_chars)\n",
        "\n",
        "        return\n",
        "    \n",
        "    def forward(self, x, hidden):\n",
        "        ''' Forward pass through the network. \n",
        "            These inputs are x, and the hidden/cell state `hidden`. '''      \n",
        "        # Get the outputs and the new hidden state from the lstm\n",
        "        out, hidden = self.lstm(x)\n",
        "        out = F.dropout(out, p=self.drop_prob)\n",
        "        out = out.view(-1, self.n_hidden)\n",
        "        out = self.fc(out)\n",
        "\n",
        "        # return the final output and the hidden state\n",
        "        return out, hidden\n",
        "    \n",
        "    \n",
        "    def init_hidden(self, batch_size):\n",
        "        ''' Initializes hidden state '''\n",
        "        # Create two new tensors with sizes n_layers x batch_size x n_hidden,\n",
        "        # initialized to zero, for hidden state and cell state of LSTM\n",
        "        weight = next(self.parameters()).data\n",
        "        \n",
        "        if (train_on_gpu):\n",
        "            hidden = (weight.new(self.n_layers, batch_size, self.n_hidden).zero_().cuda(),\n",
        "                  weight.new(self.n_layers, batch_size, self.n_hidden).zero_().cuda())\n",
        "        else:\n",
        "            hidden = (weight.new(self.n_layers, batch_size, self.n_hidden).zero_(),\n",
        "                      weight.new(self.n_layers, batch_size, self.n_hidden).zero_())\n",
        "        \n",
        "        return hidden\n",
        "        "
      ],
      "execution_count": 0,
      "outputs": []
    },
    {
      "cell_type": "markdown",
      "metadata": {
        "id": "7Xcz5f4JPOBJ",
        "colab_type": "text"
      },
      "source": [
        "## Time to train\n",
        "\n",
        "The train function gives us the ability to set the number of epochs, the learning rate, and other parameters.\n",
        "\n",
        "Below we're using an Adam optimizer and cross entropy loss since we are looking at character class scores as output. We calculate the loss and perform backpropagation, as usual!\n",
        "\n",
        "A couple of details about training: \n",
        ">* Within the batch loop, we detach the hidden state from its history; this time setting it equal to a new *tuple* variable because an LSTM has a hidden state that is a tuple of the hidden and cell states.\n",
        "* We use [`clip_grad_norm_`](https://pytorch.org/docs/stable/_modules/torch/nn/utils/clip_grad.html) to help prevent exploding gradients."
      ]
    },
    {
      "cell_type": "code",
      "metadata": {
        "id": "07HTvjsjPOBK",
        "colab_type": "code",
        "colab": {}
      },
      "source": [
        "import matplotlib.pyplot as plt\n",
        "outfile = 'best_model.net'\n",
        "def train(net, data, epochs=10, batch_size=10, seq_length=50, lr=0.001, clip=5, val_frac=0.1, print_every=10):\n",
        "    ''' Training a network \n",
        "    \n",
        "        Arguments\n",
        "        ---------\n",
        "        \n",
        "        net: CharRNN network\n",
        "        data: text data to train the network\n",
        "        epochs: Number of epochs to train\n",
        "        batch_size: Number of mini-sequences per mini-batch, aka batch size\n",
        "        seq_length: Number of character steps per mini-batch\n",
        "        lr: learning rate\n",
        "        clip: gradient clipping\n",
        "        val_frac: Fraction of data to hold out for validation\n",
        "        print_every: Number of steps for printing training and validation loss\n",
        "    \n",
        "    '''\n",
        "    net.train()\n",
        "    \n",
        "    min_loss = 1.0e6\n",
        "\n",
        "    opt = torch.optim.Adam(net.parameters(), lr=lr)\n",
        "    criterion = nn.CrossEntropyLoss()\n",
        "    \n",
        "    # create training and validation data\n",
        "    val_idx = int(len(data)*(1-val_frac))\n",
        "    data, val_data = data[:val_idx], data[val_idx:]\n",
        "    \n",
        "    if(train_on_gpu):\n",
        "        net.cuda()\n",
        "    \n",
        "    counter = 0\n",
        "    n_chars = len(net.chars)\n",
        "\n",
        "    # Training and test losses for plotting\n",
        "    loss_trn = []\n",
        "    loss_tst = []\n",
        "    for e in range(epochs):\n",
        "        # initialize hidden state\n",
        "        h = net.init_hidden(batch_size)\n",
        "        \n",
        "        for x, y in get_batches(data, batch_size, seq_length):\n",
        "            counter += 1\n",
        "\n",
        "            # One-hot encode our data and make them Torch tensors\n",
        "            x = one_hot_encode(x, n_chars)\n",
        "            inputs, targets = torch.from_numpy(x), torch.from_numpy(y)\n",
        "            \n",
        "            if(train_on_gpu):\n",
        "                inputs, targets = inputs.cuda(), targets.cuda()\n",
        "\n",
        "            # Creating new variables for the hidden state, otherwise\n",
        "            # we'd backprop through the entire training history\n",
        "            h = tuple([each.data for each in h])\n",
        "\n",
        "            # zero accumulated gradients\n",
        "            net.zero_grad()\n",
        "            \n",
        "            # get the output from the model\n",
        "            output, h = net(inputs, h)\n",
        "            \n",
        "            # calculate the loss and perform backprop\n",
        "            loss = criterion(output, targets.view(batch_size*seq_length).long())\n",
        "            loss.backward()\n",
        "            # `clip_grad_norm` helps prevent the exploding gradient problem in RNNs / LSTMs.\n",
        "            nn.utils.clip_grad_norm_(net.parameters(), clip)\n",
        "            opt.step()\n",
        "            \n",
        "            # loss stats\n",
        "            if counter % print_every == 0:\n",
        "                # Get validation loss\n",
        "                val_h = net.init_hidden(batch_size)\n",
        "                val_losses = []\n",
        "                net.eval()\n",
        "                for x, y in get_batches(val_data, batch_size, seq_length):\n",
        "                    # One-hot encode our data and make them Torch tensors\n",
        "                    x = one_hot_encode(x, n_chars)\n",
        "                    x, y = torch.from_numpy(x), torch.from_numpy(y)\n",
        "                    \n",
        "                    # Creating new variables for the hidden state, otherwise\n",
        "                    # we'd backprop through the entire training history\n",
        "                    val_h = tuple([each.data for each in val_h])\n",
        "                    \n",
        "                    inputs, targets = x, y\n",
        "                    if(train_on_gpu):\n",
        "                        inputs, targets = inputs.cuda(), targets.cuda()\n",
        "\n",
        "                    output, val_h = net(inputs, val_h)\n",
        "                    val_loss = criterion(output, targets.view(batch_size*seq_length).long())\n",
        "                \n",
        "                    val_losses.append(val_loss.item())\n",
        "                \n",
        "                net.train() # reset to train mode after iterationg through validation data\n",
        "                loss_trn.append(loss.item())\n",
        "                loss_tst.append(np.mean(val_losses))\n",
        "                print(\"Epoch: {}/{}...\".format(e+1, epochs),\n",
        "                      \"Step: {}...\".format(counter),\n",
        "                      \"Loss: {:.4f}...\".format(loss.item()),\n",
        "                      \"Val Loss: {:.4f}\".format(np.mean(val_losses)))\n",
        "                \n",
        "                # Save model if it is the best so far\n",
        "                if (loss_tst[-1] < min_loss):\n",
        "                    min_loss = loss_tst[-1]\n",
        "                    torch.save(net.state_dict(), outfile)\n",
        "                    print('   Saving model...')\n",
        "                \n",
        "    plt.plot(loss_trn, label='train loss')\n",
        "    plt.plot(loss_tst, label='test loss')\n",
        "    plt.legend();\n",
        "    plt.show()"
      ],
      "execution_count": 0,
      "outputs": []
    },
    {
      "cell_type": "markdown",
      "metadata": {
        "id": "AJcz7cLMPOBN",
        "colab_type": "text"
      },
      "source": [
        "## Instantiating the model\n",
        "\n",
        "Now we can actually train the network. First we'll create the network itself, with some given hyperparameters. Then, define the mini-batches sizes, and start training!"
      ]
    },
    {
      "cell_type": "code",
      "metadata": {
        "id": "APzrE3HOPOBO",
        "colab_type": "code",
        "outputId": "c89306e2-d772-4aad-e396-85e62cf0181e",
        "colab": {
          "base_uri": "https://localhost:8080/",
          "height": 85
        }
      },
      "source": [
        "## TODO: set your model hyperparameters\n",
        "# define and print the net\n",
        "n_hidden=512\n",
        "n_layers=2\n",
        "\n",
        "net = CharRNN(chars, n_hidden, n_layers, drop_prob=0.5)\n",
        "print(net)"
      ],
      "execution_count": 16,
      "outputs": [
        {
          "output_type": "stream",
          "text": [
            "CharRNN(\n",
            "  (lstm): LSTM(83, 512, num_layers=2, batch_first=True, dropout=0.5)\n",
            "  (fc): Linear(in_features=512, out_features=83, bias=True)\n",
            ")\n"
          ],
          "name": "stdout"
        }
      ]
    },
    {
      "cell_type": "markdown",
      "metadata": {
        "id": "gyuwnZnUPOBR",
        "colab_type": "text"
      },
      "source": [
        "### Set your training hyperparameters!"
      ]
    },
    {
      "cell_type": "code",
      "metadata": {
        "scrolled": true,
        "id": "Bb4p0mLHPOBS",
        "colab_type": "code",
        "outputId": "93f32446-06d1-4f87-ab8c-d1787df8c3b7",
        "colab": {
          "base_uri": "https://localhost:8080/",
          "height": 1000
        }
      },
      "source": [
        "batch_size = 128\n",
        "seq_length = 1000\n",
        "n_epochs   = 60 # start small if you are just testing initial behavior\n",
        "\n",
        "# train the model\n",
        "train(net, encoded, epochs=n_epochs, batch_size=batch_size, seq_length=seq_length, lr=0.002, print_every=10)"
      ],
      "execution_count": 17,
      "outputs": [
        {
          "output_type": "stream",
          "text": [
            "Epoch: 1/60... Step: 10... Loss: 3.1808... Val Loss: 3.1651\n",
            "   Saving model...\n",
            "Epoch: 2/60... Step: 20... Loss: 3.1487... Val Loss: 3.1363\n",
            "   Saving model...\n",
            "Epoch: 3/60... Step: 30... Loss: 3.1225... Val Loss: 3.1174\n",
            "   Saving model...\n",
            "Epoch: 4/60... Step: 40... Loss: 3.1212... Val Loss: 3.1131\n",
            "   Saving model...\n",
            "Epoch: 4/60... Step: 50... Loss: 3.1176... Val Loss: 3.1081\n",
            "   Saving model...\n",
            "Epoch: 5/60... Step: 60... Loss: 3.1171... Val Loss: 3.1026\n",
            "   Saving model...\n",
            "Epoch: 6/60... Step: 70... Loss: 3.1037... Val Loss: 3.0947\n",
            "   Saving model...\n",
            "Epoch: 7/60... Step: 80... Loss: 3.0890... Val Loss: 3.0830\n",
            "   Saving model...\n",
            "Epoch: 7/60... Step: 90... Loss: 3.0761... Val Loss: 3.0570\n",
            "   Saving model...\n",
            "Epoch: 8/60... Step: 100... Loss: 3.0210... Val Loss: 2.9953\n",
            "   Saving model...\n",
            "Epoch: 9/60... Step: 110... Loss: 2.9348... Val Loss: 2.8902\n",
            "   Saving model...\n",
            "Epoch: 10/60... Step: 120... Loss: 2.8321... Val Loss: 2.7983\n",
            "   Saving model...\n",
            "Epoch: 10/60... Step: 130... Loss: 2.7375... Val Loss: 2.6781\n",
            "   Saving model...\n",
            "Epoch: 11/60... Step: 140... Loss: 2.6426... Val Loss: 2.7353\n",
            "Epoch: 12/60... Step: 150... Loss: 2.6349... Val Loss: 2.5619\n",
            "   Saving model...\n",
            "Epoch: 13/60... Step: 160... Loss: 2.5566... Val Loss: 2.5105\n",
            "   Saving model...\n",
            "Epoch: 14/60... Step: 170... Loss: 2.5168... Val Loss: 2.4601\n",
            "   Saving model...\n",
            "Epoch: 14/60... Step: 180... Loss: 2.4731... Val Loss: 2.4232\n",
            "   Saving model...\n",
            "Epoch: 15/60... Step: 190... Loss: 2.4384... Val Loss: 2.3892\n",
            "   Saving model...\n",
            "Epoch: 16/60... Step: 200... Loss: 2.4064... Val Loss: 2.3571\n",
            "   Saving model...\n",
            "Epoch: 17/60... Step: 210... Loss: 2.3802... Val Loss: 2.3279\n",
            "   Saving model...\n",
            "Epoch: 17/60... Step: 220... Loss: 2.3437... Val Loss: 2.2999\n",
            "   Saving model...\n",
            "Epoch: 18/60... Step: 230... Loss: 2.3170... Val Loss: 2.2714\n",
            "   Saving model...\n",
            "Epoch: 19/60... Step: 240... Loss: 2.2884... Val Loss: 2.2414\n",
            "   Saving model...\n",
            "Epoch: 20/60... Step: 250... Loss: 2.2594... Val Loss: 2.2164\n",
            "   Saving model...\n",
            "Epoch: 20/60... Step: 260... Loss: 2.2333... Val Loss: 2.1875\n",
            "   Saving model...\n",
            "Epoch: 21/60... Step: 270... Loss: 2.2024... Val Loss: 2.1598\n",
            "   Saving model...\n",
            "Epoch: 22/60... Step: 280... Loss: 2.1785... Val Loss: 2.1333\n",
            "   Saving model...\n",
            "Epoch: 23/60... Step: 290... Loss: 2.1464... Val Loss: 2.1035\n",
            "   Saving model...\n",
            "Epoch: 24/60... Step: 300... Loss: 2.1490... Val Loss: 2.1025\n",
            "   Saving model...\n",
            "Epoch: 24/60... Step: 310... Loss: 2.1050... Val Loss: 2.0607\n",
            "   Saving model...\n",
            "Epoch: 25/60... Step: 320... Loss: 2.0803... Val Loss: 2.0397\n",
            "   Saving model...\n",
            "Epoch: 26/60... Step: 330... Loss: 2.0561... Val Loss: 2.0138\n",
            "   Saving model...\n",
            "Epoch: 27/60... Step: 340... Loss: 2.0391... Val Loss: 1.9882\n",
            "   Saving model...\n",
            "Epoch: 27/60... Step: 350... Loss: 2.0023... Val Loss: 1.9711\n",
            "   Saving model...\n",
            "Epoch: 28/60... Step: 360... Loss: 1.9940... Val Loss: 1.9454\n",
            "   Saving model...\n",
            "Epoch: 29/60... Step: 370... Loss: 1.9746... Val Loss: 1.9247\n",
            "   Saving model...\n",
            "Epoch: 30/60... Step: 380... Loss: 1.9458... Val Loss: 1.9019\n",
            "   Saving model...\n",
            "Epoch: 30/60... Step: 390... Loss: 1.9305... Val Loss: 1.8850\n",
            "   Saving model...\n",
            "Epoch: 31/60... Step: 400... Loss: 1.9130... Val Loss: 1.8643\n",
            "   Saving model...\n",
            "Epoch: 32/60... Step: 410... Loss: 1.8896... Val Loss: 1.8432\n",
            "   Saving model...\n",
            "Epoch: 33/60... Step: 420... Loss: 1.8764... Val Loss: 1.8291\n",
            "   Saving model...\n",
            "Epoch: 34/60... Step: 430... Loss: 1.8620... Val Loss: 1.8052\n",
            "   Saving model...\n",
            "Epoch: 34/60... Step: 440... Loss: 1.8257... Val Loss: 1.7886\n",
            "   Saving model...\n",
            "Epoch: 35/60... Step: 450... Loss: 1.8093... Val Loss: 1.7743\n",
            "   Saving model...\n",
            "Epoch: 36/60... Step: 460... Loss: 1.8036... Val Loss: 1.7608\n",
            "   Saving model...\n",
            "Epoch: 37/60... Step: 470... Loss: 1.7892... Val Loss: 1.7427\n",
            "   Saving model...\n",
            "Epoch: 37/60... Step: 480... Loss: 1.7559... Val Loss: 1.7315\n",
            "   Saving model...\n",
            "Epoch: 38/60... Step: 490... Loss: 1.7607... Val Loss: 1.7172\n",
            "   Saving model...\n",
            "Epoch: 39/60... Step: 500... Loss: 1.7557... Val Loss: 1.7025\n",
            "   Saving model...\n",
            "Epoch: 40/60... Step: 510... Loss: 1.7306... Val Loss: 1.6912\n",
            "   Saving model...\n",
            "Epoch: 40/60... Step: 520... Loss: 1.7219... Val Loss: 1.6773\n",
            "   Saving model...\n",
            "Epoch: 41/60... Step: 530... Loss: 1.7216... Val Loss: 1.6811\n",
            "Epoch: 42/60... Step: 540... Loss: 1.6995... Val Loss: 1.6592\n",
            "   Saving model...\n",
            "Epoch: 43/60... Step: 550... Loss: 1.6909... Val Loss: 1.6479\n",
            "   Saving model...\n",
            "Epoch: 44/60... Step: 560... Loss: 1.6868... Val Loss: 1.6372\n",
            "   Saving model...\n",
            "Epoch: 44/60... Step: 570... Loss: 1.6535... Val Loss: 1.6236\n",
            "   Saving model...\n",
            "Epoch: 45/60... Step: 580... Loss: 1.6437... Val Loss: 1.6158\n",
            "   Saving model...\n",
            "Epoch: 46/60... Step: 590... Loss: 1.6446... Val Loss: 1.6076\n",
            "   Saving model...\n",
            "Epoch: 47/60... Step: 600... Loss: 1.6341... Val Loss: 1.5952\n",
            "   Saving model...\n",
            "Epoch: 47/60... Step: 610... Loss: 1.6066... Val Loss: 1.5912\n",
            "   Saving model...\n",
            "Epoch: 48/60... Step: 620... Loss: 1.6179... Val Loss: 1.5832\n",
            "   Saving model...\n",
            "Epoch: 49/60... Step: 630... Loss: 1.6197... Val Loss: 1.5731\n",
            "   Saving model...\n",
            "Epoch: 50/60... Step: 640... Loss: 1.5993... Val Loss: 1.5644\n",
            "   Saving model...\n",
            "Epoch: 50/60... Step: 650... Loss: 1.5926... Val Loss: 1.5570\n",
            "   Saving model...\n",
            "Epoch: 51/60... Step: 660... Loss: 1.5911... Val Loss: 1.5514\n",
            "   Saving model...\n",
            "Epoch: 52/60... Step: 670... Loss: 1.5767... Val Loss: 1.5438\n",
            "   Saving model...\n",
            "Epoch: 53/60... Step: 680... Loss: 1.5723... Val Loss: 1.5371\n",
            "   Saving model...\n",
            "Epoch: 54/60... Step: 690... Loss: 1.5723... Val Loss: 1.5290\n",
            "   Saving model...\n",
            "Epoch: 54/60... Step: 700... Loss: 1.5375... Val Loss: 1.5198\n",
            "   Saving model...\n",
            "Epoch: 55/60... Step: 710... Loss: 1.5332... Val Loss: 1.5160\n",
            "   Saving model...\n",
            "Epoch: 56/60... Step: 720... Loss: 1.5384... Val Loss: 1.5095\n",
            "   Saving model...\n",
            "Epoch: 57/60... Step: 730... Loss: 1.5289... Val Loss: 1.5043\n",
            "   Saving model...\n",
            "Epoch: 57/60... Step: 740... Loss: 1.4958... Val Loss: 1.4977\n",
            "   Saving model...\n",
            "Epoch: 58/60... Step: 750... Loss: 1.5146... Val Loss: 1.4904\n",
            "   Saving model...\n",
            "Epoch: 59/60... Step: 760... Loss: 1.5214... Val Loss: 1.4837\n",
            "   Saving model...\n",
            "Epoch: 60/60... Step: 770... Loss: 1.5013... Val Loss: 1.4789\n",
            "   Saving model...\n",
            "Epoch: 60/60... Step: 780... Loss: 1.4971... Val Loss: 1.4740\n",
            "   Saving model...\n"
          ],
          "name": "stdout"
        },
        {
          "output_type": "display_data",
          "data": {
            "image/png": "[encoded data removed]",
            "text/plain": [
              "<Figure size 432x288 with 1 Axes>"
            ]
          },
          "metadata": {
            "tags": []
          }
        }
      ]
    },
    {
      "cell_type": "markdown",
      "metadata": {
        "id": "0BuAruL2POBV",
        "colab_type": "text"
      },
      "source": [
        "## Getting the best model\n",
        "\n",
        "To set your hyperparameters to get the best performance, you'll want to watch the training and validation losses. If your training loss is much lower than the validation loss, you're overfitting. Increase regularization (more dropout) or use a smaller network. If the training and validation losses are close, you're underfitting so you can increase the size of the network."
      ]
    },
    {
      "cell_type": "markdown",
      "metadata": {
        "id": "VV6VzNAPPOBW",
        "colab_type": "text"
      },
      "source": [
        "## Hyperparameters\n",
        "\n",
        "Here are the hyperparameters for the network.\n",
        "\n",
        "In defining the model:\n",
        "* `n_hidden` - The number of units in the hidden layers.\n",
        "* `n_layers` - Number of hidden LSTM layers to use.\n",
        "\n",
        "We assume that dropout probability and learning rate will be kept at the default, in this example.\n",
        "\n",
        "And in training:\n",
        "* `batch_size` - Number of sequences running through the network in one pass.\n",
        "* `seq_length` - Number of characters in the sequence the network is trained on. Larger is better typically, the network will learn more long range dependencies. But it takes longer to train. 100 is typically a good number here.\n",
        "* `lr` - Learning rate for training\n",
        "\n",
        "Here's some good advice from Andrej Karpathy on training the network. I'm going to copy it in here for your benefit, but also link to [where it originally came from](https://github.com/karpathy/char-rnn#tips-and-tricks).\n",
        "\n",
        "> ## Tips and Tricks\n",
        "\n",
        ">### Monitoring Validation Loss vs. Training Loss\n",
        ">If you're somewhat new to Machine Learning or Neural Networks it can take a bit of expertise to get good models. The most important quantity to keep track of is the difference between your training loss (printed during training) and the validation loss (printed once in a while when the RNN is run on the validation data (by default every 1000 iterations)). In particular:\n",
        "\n",
        "> - If your training loss is much lower than validation loss then this means the network might be **overfitting**. Solutions to this are to decrease your network size, or to increase dropout. For example you could try dropout of 0.5 and so on.\n",
        "> - If your training/validation loss are about equal then your model is **underfitting**. Increase the size of your model (either number of layers or the raw number of neurons per layer)\n",
        "\n",
        "> ### Approximate number of parameters\n",
        "\n",
        "> The two most important parameters that control the model are `n_hidden` and `n_layers`. I would advise that you always use `n_layers` of either 2/3. The `n_hidden` can be adjusted based on how much data you have. The two important quantities to keep track of here are:\n",
        "\n",
        "> - The number of parameters in your model. This is printed when you start training.\n",
        "> - The size of your dataset. 1MB file is approximately 1 million characters.\n",
        "\n",
        ">These two should be about the same order of magnitude. It's a little tricky to tell. Here are some examples:\n",
        "\n",
        "> - I have a 100MB dataset and I'm using the default parameter settings (which currently print 150K parameters). My data size is significantly larger (100 mil >> 0.15 mil), so I expect to heavily underfit. I am thinking I can comfortably afford to make `n_hidden` larger.\n",
        "> - I have a 10MB dataset and running a 10 million parameter model. I'm slightly nervous and I'm carefully monitoring my validation loss. If it's larger than my training loss then I may want to try to increase dropout a bit and see if that helps the validation loss.\n",
        "\n",
        "> ### Best models strategy\n",
        "\n",
        ">The winning strategy to obtaining very good models (if you have the compute time) is to always err on making the network larger (as large as you're willing to wait for it to compute) and then try different dropout values (between 0,1). Whatever model has the best validation performance (the loss, written in the checkpoint filename, low is good) is the one you should use in the end.\n",
        "\n",
        ">It is very common in deep learning to run many different models with many different hyperparameter settings, and in the end take whatever checkpoint gave the best validation performance.\n",
        "\n",
        ">By the way, the size of your training and validation splits are also parameters. Make sure you have a decent amount of data in your validation set or otherwise the validation performance will be noisy and not very informative."
      ]
    },
    {
      "cell_type": "markdown",
      "metadata": {
        "id": "NOXSxxYcPOBW",
        "colab_type": "text"
      },
      "source": [
        "## Checkpoint\n",
        "\n",
        "After training, we'll save the model so we can load it again later if we need too. Here I'm saving the parameters needed to create the same architecture, the hidden layer hyperparameters and the text characters."
      ]
    },
    {
      "cell_type": "code",
      "metadata": {
        "id": "ljwqn-O_POBY",
        "colab_type": "code",
        "outputId": "8869c569-a1f7-45d4-b151-cda3f275a4d9",
        "colab": {
          "base_uri": "https://localhost:8080/",
          "height": 34
        }
      },
      "source": [
        "# change the name, for saving multiple files\n",
        "model_name = 'rnn_x_epoch.net'\n",
        "\n",
        "checkpoint = {'n_hidden': net.n_hidden,\n",
        "              'n_layers': net.n_layers,\n",
        "              'state_dict': net.state_dict(),\n",
        "              'tokens': net.chars}\n",
        "\n",
        "with open(model_name, 'wb') as f:\n",
        "    torch.save(checkpoint, f)\n",
        "\n",
        "# Load the best model\n",
        "net.load_state_dict(torch.load(outfile))"
      ],
      "execution_count": 18,
      "outputs": [
        {
          "output_type": "execute_result",
          "data": {
            "text/plain": [
              "<All keys matched successfully>"
            ]
          },
          "metadata": {
            "tags": []
          },
          "execution_count": 18
        }
      ]
    },
    {
      "cell_type": "markdown",
      "metadata": {
        "id": "P7RSyoDaPOBa",
        "colab_type": "text"
      },
      "source": [
        "---\n",
        "## Making Predictions\n",
        "\n",
        "Now that the model is trained, we'll want to sample from it and make predictions about next characters! To sample, we pass in a character and have the network predict the next character. Then we take that character, pass it back in, and get another predicted character. Just keep doing this and you'll generate a bunch of text!\n",
        "\n",
        "### A note on the `predict`  function\n",
        "\n",
        "The output of our RNN is from a fully-connected layer and it outputs a **distribution of next-character scores**.\n",
        "\n",
        "> To actually get the next character, we apply a softmax function, which gives us a *probability* distribution that we can then sample to predict the next character.\n",
        "\n",
        "### Top K sampling\n",
        "\n",
        "Our predictions come from a categorical probability distribution over all the possible characters. We can make the sample text and make it more reasonable to handle (with less variables) by only considering some $K$ most probable characters. This will prevent the network from giving us completely absurd characters while allowing it to introduce some noise and randomness into the sampled text. Read more about [topk, here](https://pytorch.org/docs/stable/torch.html#torch.topk).\n"
      ]
    },
    {
      "cell_type": "code",
      "metadata": {
        "id": "e8Mh_E0YPOBb",
        "colab_type": "code",
        "colab": {}
      },
      "source": [
        "def predict(net, char, h=None, top_k=None):\n",
        "        ''' Given a character, predict the next character.\n",
        "            Returns the predicted character and the hidden state.\n",
        "        '''\n",
        "        \n",
        "        # tensor inputs\n",
        "        x = np.array([[net.char2int[char]]])\n",
        "        x = one_hot_encode(x, len(net.chars))\n",
        "        inputs = torch.from_numpy(x)\n",
        "        \n",
        "        if(train_on_gpu):\n",
        "            inputs = inputs.cuda()\n",
        "        \n",
        "        # detach hidden state from history\n",
        "        h = tuple([each.data for each in h])\n",
        "        # get the output of the model\n",
        "        out, h = net(inputs, h)\n",
        "\n",
        "        # get the character probabilities\n",
        "        p = F.softmax(out, dim=1).data\n",
        "        if(train_on_gpu):\n",
        "            p = p.cpu() # move to cpu\n",
        "        \n",
        "        # get top characters\n",
        "        if top_k is None:\n",
        "            top_ch = np.arange(len(net.chars))\n",
        "        else:\n",
        "            p, top_ch = p.topk(top_k)\n",
        "            top_ch = top_ch.numpy().squeeze()\n",
        "        \n",
        "        # select the likely next character with some element of randomness\n",
        "        p = p.numpy().squeeze()\n",
        "        char = np.random.choice(top_ch, p=p/p.sum())\n",
        "        \n",
        "        # return the encoded value of the predicted char and the hidden state\n",
        "        return net.int2char[char], h"
      ],
      "execution_count": 0,
      "outputs": []
    },
    {
      "cell_type": "markdown",
      "metadata": {
        "id": "9rDSrBoAPOBe",
        "colab_type": "text"
      },
      "source": [
        "### Priming and generating text \n",
        "\n",
        "Typically you'll want to prime the network so you can build up a hidden state. Otherwise the network will start out generating characters at random. In general the first bunch of characters will be a little rough since it hasn't built up a long history of characters to predict from."
      ]
    },
    {
      "cell_type": "code",
      "metadata": {
        "id": "kyz9UfirPOBe",
        "colab_type": "code",
        "colab": {}
      },
      "source": [
        "def sample(net, size, prime='The', top_k=None):\n",
        "        \n",
        "    if(train_on_gpu):\n",
        "        net.cuda()\n",
        "    else:\n",
        "        net.cpu()\n",
        "    \n",
        "    net.eval() # eval mode\n",
        "    \n",
        "    # First off, run through the prime characters\n",
        "    chars = [ch for ch in prime]\n",
        "    h = net.init_hidden(1)\n",
        "    for ch in prime:\n",
        "        char, h = predict(net, ch, h, top_k=top_k)\n",
        "\n",
        "    chars.append(char)\n",
        "    \n",
        "    # Now pass in the previous character and get a new one\n",
        "    for ii in range(size):\n",
        "        char, h = predict(net, chars[-1], h, top_k=top_k)\n",
        "        chars.append(char)\n",
        "\n",
        "    return ''.join(chars)"
      ],
      "execution_count": 0,
      "outputs": []
    },
    {
      "cell_type": "code",
      "metadata": {
        "id": "Qyt14PZMPOBh",
        "colab_type": "code",
        "outputId": "bde2ec18-d49f-444a-a91c-4e6c8bd8bcf0",
        "colab": {
          "base_uri": "https://localhost:8080/",
          "height": 224
        }
      },
      "source": [
        "print(sample(net, 1000, prime='Anna', top_k=5))"
      ],
      "execution_count": 21,
      "outputs": [
        {
          "output_type": "stream",
          "text": [
            "Annanenide anesedind anothed arigrins on alenge thisithin in tene the o oused thisthithilis te his tithest he s mata thaneled wa t thiraren wes ase no we then aratimestined.. asin he stre we st tes athothinthad ton henga ha thedines\n",
            "he hily o as harene wist hingis ath oniten whasa onin\n",
            "m th he\n",
            "he hheste\n",
            "thatinge ale horas were onenes tatousheshovorarouly hid than titarathallely arededrotino hed\n",
            "the onirreres wasin'serinitheden thitin se whelalithe t tasen h he hanathens honglis thed\n",
            "n tonese tinanen hen. ted honins hed\n",
            "hed te winen'lelounind hed\n",
            "as sastinitily wh the was an aditouserotitare onsese\n",
            "ange aly chesithedit then ha ouronelerinsthanasatin hinste onons ofurithitethot winis te wesinhed.\n",
            "co aninederane oringined allangas t t n thensigenthest has has ho han a o thero te h the he ate hitheronothen ines t hote ithen onn hele then he t taling wen wed he thesidest arinonesase herite he tes hathiknongan s t at hed stithinan tit hit asesasenoure ad woninedinovedesid aruted titonine wad tin \n"
          ],
          "name": "stdout"
        }
      ]
    },
    {
      "cell_type": "markdown",
      "metadata": {
        "id": "GEZ_U9pJPOBl",
        "colab_type": "text"
      },
      "source": [
        "## Loading a checkpoint"
      ]
    },
    {
      "cell_type": "code",
      "metadata": {
        "id": "e2JGw-wQPOBl",
        "colab_type": "code",
        "outputId": "3ecfabef-2bdf-4a1d-a75a-eefec317bef0",
        "colab": {
          "base_uri": "https://localhost:8080/",
          "height": 34
        }
      },
      "source": [
        "# Here we have loaded in a model that trained over 20 epochs `rnn_20_epoch.net`\n",
        "with open('rnn_x_epoch.net', 'rb') as f:\n",
        "    checkpoint = torch.load(f)\n",
        "    \n",
        "loaded = CharRNN(checkpoint['tokens'], n_hidden=checkpoint['n_hidden'], n_layers=checkpoint['n_layers'])\n",
        "loaded.load_state_dict(checkpoint['state_dict'])\n",
        "\n",
        "# Load the actual best fit network\n",
        "loaded.load_state_dict(torch.load(outfile))"
      ],
      "execution_count": 22,
      "outputs": [
        {
          "output_type": "execute_result",
          "data": {
            "text/plain": [
              "<All keys matched successfully>"
            ]
          },
          "metadata": {
            "tags": []
          },
          "execution_count": 22
        }
      ]
    },
    {
      "cell_type": "code",
      "metadata": {
        "id": "lPcpa2QvPOBo",
        "colab_type": "code",
        "outputId": "c2ca95bf-44fa-4ecc-f1cb-ce0d7cac94ef",
        "colab": {
          "base_uri": "https://localhost:8080/",
          "height": 870
        }
      },
      "source": [
        "# Sample using a loaded model\n",
        "print(sample(loaded, 2000, top_k=5, prime=\"And Levin said\"))"
      ],
      "execution_count": 23,
      "outputs": [
        {
          "output_type": "stream",
          "text": [
            "And Levin saiderinorarin teve anane the hid wan henist heded a ounente ilin a he a wes athe tite hedan o h orinenen tan thelat whimat ouningrid hengre anengen ath tide hededire asheranouse\n",
            "hillisis\n",
            "touliner asinthe on\n",
            "a t the a we hathen tenithed alineshesh t oneded\n",
            "lid\n",
            "outine wa ade wen athed hothe ininitone tha wan aranshe tidres in a hore he\n",
            "atin wouse hanenere\n",
            "ithen hede\n",
            "nsilonoraloneronouthe wanenidon o t talede\n",
            "we\n",
            "he\n",
            "ste\n",
            "sane ore ns hedised hete ha she o o\n",
            "t anen tedis in ite te waneshin we we whoriland\n",
            "thinontareshathed s watithas ishonininnthe hone hougathe we a o hent a a adis hens a ared onthoury.\"\n",
            "st arenone\n",
            "honar t hat\n",
            "tiratred se\n",
            "st hon athise oun h h tharere s t inesitinthesinnondinghes a onire hono\n",
            "one tin he ofitises herared\n",
            "s wed he henede\n",
            "hinevistothes cis hese athinourery had. t the oule oniratonshend t the a he\n",
            "hes o he thiren ouran tit th tatiliteshe oren the thed uton\n",
            "lishe on want hredrenin t sin then hesthitheneralile adan hre t whest ot ons hitatediderounene sasin th wede\n",
            "the astesederinid credanon tese when te hat haly, alelese witas ongrengrad\n",
            "ara he sthisid t hined whes o inoned\n",
            "hilin athed tine hove t aledisthirare a asesthiserounese wella we\n",
            "t he sh we t hin thast th t t thiresa wan te ca at t the th wist the tere ouledre hathed\n",
            "cotonte\n",
            "t hased hadera he he a hon thistonire\n",
            "coulin as\n",
            "she thenile wanouna ned wane oth thanen wine ted whin thakine t o onese\n",
            "shin o hes anese h tin than we tinen han tase one\n",
            "outhinore ane he\n",
            "ononeden ad\n",
            "niditares otinin watironen a we hale hite allononed oun henen wases\n",
            "t alesothes he\n",
            "sensowale aro t at as one\n",
            "wasathe hitise\n",
            "a shale\n",
            "\n",
            "dininghine atoresthin we thene\n",
            "china then hed\n",
            "s ote hede\n",
            "when s orins t t he\n",
            "wed haluratesenithenen sis ared\n",
            "cheeden we s h hin thed tis tusthond walin on thed tithen he winonse he ourea tisash here cas tine o whe thered the or thid tinonsinen h a anire hind.\n",
            "t ta otis\n",
            "ines alelen thire he whanerethede he winoushinoririn hinousthely, o he trethered tinesidouridre a tale a ast th theshin sithan\n"
          ],
          "name": "stdout"
        }
      ]
    },
    {
      "cell_type": "code",
      "metadata": {
        "id": "40reMZS6POBs",
        "colab_type": "code",
        "colab": {}
      },
      "source": [
        ""
      ],
      "execution_count": 0,
      "outputs": []
    }
  ]
}